{
 "cells": [
  {
   "cell_type": "code",
   "execution_count": 2,
   "id": "c77f64d6",
   "metadata": {},
   "outputs": [
    {
     "name": "stdout",
     "output_type": "stream",
     "text": [
      "'hello': 1\n",
      "'everyone': 1\n",
      "'my': 1\n",
      "'name': 1\n",
      "'is': 1\n",
      "'goutham': 1\n",
      "'currently': 1\n",
      "'im': 1\n",
      "'pursuing': 1\n",
      "'b': 1\n",
      "'tech': 1\n",
      "'in': 1\n",
      "'mallareddy': 1\n",
      "'university': 1\n",
      "'at': 1\n",
      "'hyd': 1\n"
     ]
    }
   ],
   "source": [
    "#DAY5\n",
    "#Write a Python program to calculate the frequency of each word in a given text. \n",
    "#Print the words and their corresponding counts\n",
    "\n",
    "def word_frequency(text):\n",
    "    normalized_text = \"\"\n",
    "    for char in text:\n",
    "        if char.isalnum() or char.isspace():\n",
    "            normalized_text += char.lower()\n",
    "        else:\n",
    "            normalized_text += \" \"\n",
    "    \n",
    "    words = normalized_text.split()\n",
    "    \n",
    "    frequency = {}\n",
    "    for word in words:\n",
    "        if word in frequency:\n",
    "            frequency[word] += 1\n",
    "        else:\n",
    "            frequency[word] = 1\n",
    "    \n",
    "    return frequency\n",
    "\n",
    "# Example usage\n",
    "text = \"\"\"Hello everyone!! my name is goutham currently im pursuing b.tech in mallareddy university at hyd\"\"\"\n",
    "freq = word_frequency(text)\n",
    "\n",
    "# Display the results\n",
    "for word, count in freq.items():\n",
    "    print(f\"'{word}': {count}\")\n"
   ]
  },
  {
   "cell_type": "code",
   "execution_count": null,
   "id": "d4dcf656",
   "metadata": {},
   "outputs": [],
   "source": []
  }
 ],
 "metadata": {
  "kernelspec": {
   "display_name": "Python 3 (ipykernel)",
   "language": "python",
   "name": "python3"
  },
  "language_info": {
   "codemirror_mode": {
    "name": "ipython",
    "version": 3
   },
   "file_extension": ".py",
   "mimetype": "text/x-python",
   "name": "python",
   "nbconvert_exporter": "python",
   "pygments_lexer": "ipython3",
   "version": "3.10.9"
  }
 },
 "nbformat": 4,
 "nbformat_minor": 5
}
