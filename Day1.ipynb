{
 "cells": [
  {
   "cell_type": "code",
   "execution_count": 1,
   "metadata": {},
   "outputs": [
    {
     "name": "stdout",
     "output_type": "stream",
     "text": [
      "Integer Variable:\n",
      "Value: 10 | Type: <class 'int'>\n",
      "\n",
      "Float Variable:\n",
      "Value: 3.14 | Type: <class 'float'>\n",
      "\n",
      "String Variable:\n",
      "Value: Hello, Jupyter! | Type: <class 'str'>\n",
      "\n",
      "Boolean Variable:\n",
      "Value: True | Type: <class 'bool'>\n"
     ]
    }
   ],
   "source": [
    "#Day 1:\n",
    "#. Jupyter Notebook and Data Types\n",
    "#Write a program in Jupyter Notebook to declare variables of different data types (integer, float, string, and boolean). Print each variable and its type\n",
    "\n",
    "# Declare variables of different data types\n",
    "integer_variable = 10          # Integer\n",
    "float_variable = 3.14          # Float\n",
    "string_variable = \"Hello, Jupyter!\"  # String\n",
    "boolean_variable = True        # Boolean\n",
    "\n",
    "# Print each variable and its type\n",
    "print(\"Integer Variable:\")\n",
    "print(\"Value:\", integer_variable, \"| Type:\", type(integer_variable))\n",
    "print(\"\\nFloat Variable:\")\n",
    "print(\"Value:\", float_variable, \"| Type:\", type(float_variable))\n",
    "print(\"\\nString Variable:\")\n",
    "print(\"Value:\", string_variable, \"| Type:\", type(string_variable))\n",
    "print(\"\\nBoolean Variable:\")\n",
    "print(\"Value:\", boolean_variable, \"| Type:\", type(boolean_variable))\n"
   ]
  }
 ],
 "metadata": {
  "kernelspec": {
   "display_name": "base",
   "language": "python",
   "name": "python3"
  },
  "language_info": {
   "codemirror_mode": {
    "name": "ipython",
    "version": 3
   },
   "file_extension": ".py",
   "mimetype": "text/x-python",
   "name": "python",
   "nbconvert_exporter": "python",
   "pygments_lexer": "ipython3",
   "version": "3.12.4"
  }
 },
 "nbformat": 4,
 "nbformat_minor": 2
}
