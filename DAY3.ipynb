{
 "cells": [
  {
   "cell_type": "code",
   "execution_count": 3,
   "id": "dcab0330",
   "metadata": {},
   "outputs": [
    {
     "name": "stdout",
     "output_type": "stream",
     "text": [
      "Enter first subject: 90\n",
      "Enter second subject: 97\n",
      "Enter third subject: 92\n",
      "Average of three subjects is: 93\n",
      "Grade: A\n"
     ]
    }
   ],
   "source": [
    "#DAY3\n",
    "\n",
    "\"\"\"Write a Python program that takes a student's marks in three subjects as input.\n",
    "If the average is greater than or equal to 90, print \"Grade: A\".\n",
    "If the average is between 80 and 89, print \"Grade: B\".\n",
    "If the average is between 70 and 79, print \"Grade: C\".\n",
    "Otherwise, print \"Grade: Fail\".\"\"\"\n",
    "\n",
    "subject1=int(input(\"Enter first subject: \"))\n",
    "subject2=int(input(\"Enter second subject: \"))\n",
    "subject3=int(input(\"Enter third subject: \"))\n",
    "average=(subject1+subject2+subject3)//3\n",
    "print(\"Average of three subjects is:\",average)\n",
    "if average>=90:\n",
    "    print(\"Grade: A\")\n",
    "elif average>=80 and average<=89:\n",
    "    print(\"Grade: B\")\n",
    "elif average>=70 and average<=79:\n",
    "    print(\"Grade: C\")\n",
    "else:\n",
    "    print(\"Grade: Fail\")"
   ]
  },
  {
   "cell_type": "code",
   "execution_count": null,
   "id": "0a595ecd",
   "metadata": {},
   "outputs": [],
   "source": []
  }
 ],
 "metadata": {
  "kernelspec": {
   "display_name": "Python 3 (ipykernel)",
   "language": "python",
   "name": "python3"
  },
  "language_info": {
   "codemirror_mode": {
    "name": "ipython",
    "version": 3
   },
   "file_extension": ".py",
   "mimetype": "text/x-python",
   "name": "python",
   "nbconvert_exporter": "python",
   "pygments_lexer": "ipython3",
   "version": "3.10.9"
  }
 },
 "nbformat": 4,
 "nbformat_minor": 5
}
