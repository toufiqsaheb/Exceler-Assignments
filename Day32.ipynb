{
 "cells": [
  {
   "cell_type": "code",
   "execution_count": 1,
   "metadata": {},
   "outputs": [
    {
     "name": "stdout",
     "output_type": "stream",
     "text": [
      "File not found: sample.txt\n",
      "Top 5 Most Frequent Tokens:\n"
     ]
    },
    {
     "name": "stderr",
     "output_type": "stream",
     "text": [
      "[nltk_data] Downloading package punkt to C:\\Users\\SHAIK\n",
      "[nltk_data]     TOUFIQSAHEB\\AppData\\Roaming\\nltk_data...\n",
      "[nltk_data]   Package punkt is already up-to-date!\n"
     ]
    }
   ],
   "source": [
    "import nltk\n",
    "from nltk.tokenize import word_tokenize\n",
    "from nltk.probability import FreqDist\n",
    "import string\n",
    "\n",
    "# Ensure NLTK resources are downloaded\n",
    "nltk.download('punkt')\n",
    "\n",
    "def calculate_term_frequency(file_path, top_n=5):\n",
    "    \"\"\"\n",
    "    Loads a text file, performs tokenization, and calculates term frequency.\n",
    "    \n",
    "    Parameters:\n",
    "    file_path (str): The path to the text file.\n",
    "    top_n (int): The number of top frequent tokens to display.\n",
    "    \n",
    "    Returns:\n",
    "    list: A list of tuples containing the top tokens and their frequencies.\n",
    "    \"\"\"\n",
    "    try:\n",
    "        # Load the text file\n",
    "        with open(file_path, 'r') as file:\n",
    "            text = file.read()\n",
    "\n",
    "        # Tokenize the text\n",
    "        tokens = word_tokenize(text)\n",
    "\n",
    "        # Normalize: Convert to lowercase and remove punctuation\n",
    "        tokens = [token.lower() for token in tokens if token.isalnum()]\n",
    "\n",
    "        # Calculate term frequency\n",
    "        freq_dist = FreqDist(tokens)\n",
    "\n",
    "        # Get the top n most frequent tokens\n",
    "        return freq_dist.most_common(top_n)\n",
    "\n",
    "    except FileNotFoundError:\n",
    "        print(f\"File not found: {file_path}\")\n",
    "        return []\n",
    "\n",
    "# Test the function\n",
    "file_path = 'sample.txt'  # Replace with the path to your text file\n",
    "top_tokens = calculate_term_frequency(file_path)\n",
    "\n",
    "# Display the results\n",
    "print(\"Top 5 Most Frequent Tokens:\")\n",
    "for token, frequency in top_tokens:\n",
    "    print(f\"{token}: {frequency}\")\n"
   ]
  }
 ],
 "metadata": {
  "kernelspec": {
   "display_name": "base",
   "language": "python",
   "name": "python3"
  },
  "language_info": {
   "codemirror_mode": {
    "name": "ipython",
    "version": 3
   },
   "file_extension": ".py",
   "mimetype": "text/x-python",
   "name": "python",
   "nbconvert_exporter": "python",
   "pygments_lexer": "ipython3",
   "version": "3.12.4"
  }
 },
 "nbformat": 4,
 "nbformat_minor": 2
}
