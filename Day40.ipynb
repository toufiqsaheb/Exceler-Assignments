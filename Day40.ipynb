{
 "cells": [
  {
   "cell_type": "code",
   "execution_count": 1,
   "metadata": {},
   "outputs": [
    {
     "name": "stdout",
     "output_type": "stream",
     "text": [
      "Predicted Category: spam\n"
     ]
    }
   ],
   "source": [
    "from sklearn.feature_extraction.text import TfidfVectorizer\n",
    "from sklearn.ensemble import RandomForestClassifier\n",
    "\n",
    "# Sample text data and labels\n",
    "texts = [\"Buy now and win a prize\", \"Normal email content\", \"Congratulations, you won!\", \"Limited time offer, act fast\", \"Meeting scheduled for tomorrow\"]\n",
    "labels = [\"spam\", \"ham\", \"spam\", \"spam\", \"ham\"]\n",
    "\n",
    "# Convert text data into numerical format\n",
    "vectorizer = TfidfVectorizer()\n",
    "X = vectorizer.fit_transform(texts)\n",
    "\n",
    "# Train the Random Forest model\n",
    "model = RandomForestClassifier()\n",
    "model.fit(X, labels)\n",
    "\n",
    "# Predict category of a new text\n",
    "new_text = [\"You have been selected for a special offer\"]\n",
    "X_new = vectorizer.transform(new_text)\n",
    "predicted_label = model.predict(X_new)\n",
    "\n",
    "print(\"Predicted Category:\", predicted_label[0])"
   ]
  },
  {
   "cell_type": "code",
   "execution_count": null,
   "metadata": {},
   "outputs": [],
   "source": []
  }
 ],
 "metadata": {
  "kernelspec": {
   "display_name": "base",
   "language": "python",
   "name": "python3"
  },
  "language_info": {
   "codemirror_mode": {
    "name": "ipython",
    "version": 3
   },
   "file_extension": ".py",
   "mimetype": "text/x-python",
   "name": "python",
   "nbconvert_exporter": "python",
   "pygments_lexer": "ipython3",
   "version": "3.12.4"
  }
 },
 "nbformat": 4,
 "nbformat_minor": 2
}
