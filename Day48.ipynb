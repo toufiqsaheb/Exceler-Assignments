{
 "cells": [
  {
   "cell_type": "code",
   "execution_count": null,
   "metadata": {
    "vscode": {
     "languageId": "plaintext"
    }
   },
   "outputs": [],
   "source": [
    "from transformers import pipeline\n",
    "\n",
    "# Load summarization model\n",
    "summarizer = pipeline(\"summarization\")\n",
    "\n",
    "# Input paragraph\n",
    "text = \"Artificial Intelligence is transforming the world. It is used in various fields such as healthcare, finance, and education. AI helps automate tasks, improve efficiency, and make data-driven decisions. As technology advances, AI continues to evolve and impact our daily lives.\"\n",
    "\n",
    "# Generate summary\n",
    "summary = summarizer(text, max_length=50, min_length=20, do_sample=False)\n",
    "\n",
    "# Print summary\n",
    "print(\"Summary:\", summary[0]['summary_text'])"
   ]
  }
 ],
 "metadata": {
  "language_info": {
   "name": "python"
  }
 },
 "nbformat": 4,
 "nbformat_minor": 2
}
