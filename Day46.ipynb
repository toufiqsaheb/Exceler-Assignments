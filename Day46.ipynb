{
 "cells": [
  {
   "cell_type": "code",
   "execution_count": null,
   "metadata": {
    "vscode": {
     "languageId": "plaintext"
    }
   },
   "outputs": [],
   "source": [
    "def chatbot():\n",
    "    responses = {\n",
    "        \"hello\": \"Hi! How can I help you?\",\n",
    "        \"how are you?\": \"I'm just a bot, but I'm doing great!\",\n",
    "        \"bye\": \"Goodbye! Have a nice day!\"\n",
    "    }\n",
    "    \n",
    "    while True:\n",
    "        user_input = input(\"You: \").lower()\n",
    "        if user_input in responses:\n",
    "            print(\"Bot:\", responses[user_input])\n",
    "            if user_input == \"bye\":\n",
    "                break\n",
    "        else:\n",
    "            print(\"Bot: Sorry, I don't understand.\")\n",
    "\n",
    "chatbot()"
   ]
  },
  {
   "cell_type": "code",
   "execution_count": null,
   "metadata": {
    "vscode": {
     "languageId": "plaintext"
    }
   },
   "outputs": [],
   "source": []
  },
  {
   "cell_type": "code",
   "execution_count": null,
   "metadata": {
    "vscode": {
     "languageId": "plaintext"
    }
   },
   "outputs": [],
   "source": []
  }
 ],
 "metadata": {
  "language_info": {
   "name": "python"
  }
 },
 "nbformat": 4,
 "nbformat_minor": 2
}
