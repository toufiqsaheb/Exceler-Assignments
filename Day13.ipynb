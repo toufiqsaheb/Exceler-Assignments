{
 "cells": [
  {
   "cell_type": "code",
   "execution_count": null,
   "metadata": {},
   "outputs": [],
   "source": [
    "\n"
   ]
  },
  {
   "cell_type": "code",
   "execution_count": 2,
   "metadata": {},
   "outputs": [
    {
     "name": "stdout",
     "output_type": "stream",
     "text": [
      "NLP: PROPN\n",
      "is: AUX\n",
      "amazing: ADJ\n",
      "and: CCONJ\n",
      "fun: ADJ\n",
      "to: PART\n",
      "learn: VERB\n",
      ".: PUNCT\n"
     ]
    }
   ],
   "source": [
    "import spacy\n",
    "\n",
    "# Load the SpaCy model for English\n",
    "nlp = spacy.load('en_core_web_sm')\n",
    "\n",
    "# The sentence to analyze\n",
    "sentence = 'NLP is amazing and fun to learn.'\n",
    "\n",
    "# Process the sentence with SpaCy\n",
    "doc = nlp(sentence)\n",
    "\n",
    "# Print the token and its part-of-speech tag\n",
    "for token in doc:\n",
    "    print(f'{token.text}: {token.pos_}')\n"
   ]
  }
 ],
 "metadata": {
  "kernelspec": {
   "display_name": "Python 3",
   "language": "python",
   "name": "python3"
  },
  "language_info": {
   "codemirror_mode": {
    "name": "ipython",
    "version": 3
   },
   "file_extension": ".py",
   "mimetype": "text/x-python",
   "name": "python",
   "nbconvert_exporter": "python",
   "pygments_lexer": "ipython3",
   "version": "3.12.6"
  }
 },
 "nbformat": 4,
 "nbformat_minor": 2
}
