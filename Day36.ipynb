{
 "cells": [
  {
   "cell_type": "code",
   "execution_count": 1,
   "metadata": {},
   "outputs": [
    {
     "name": "stdout",
     "output_type": "stream",
     "text": [
      "Predicted Category: tech\n"
     ]
    }
   ],
   "source": [
    "from sklearn.feature_extraction.text import CountVectorizer\n",
    "from sklearn.naive_bayes import MultinomialNB\n",
    "\n",
    "# Sample text data and corresponding labels\n",
    "texts = [\"I love programming\", \"Python is great\", \"Machine learning is amazing\", \"I enjoy coding\", \"Data science is interesting\"]\n",
    "labels = [\"tech\", \"tech\", \"AI\", \"tech\", \"AI\"]\n",
    "\n",
    "# Convert text data into numerical feature vectors\n",
    "vectorizer = CountVectorizer()\n",
    "X = vectorizer.fit_transform(texts)\n",
    "\n",
    "# Train the Naïve Bayes model\n",
    "model = MultinomialNB()\n",
    "model.fit(X, labels)\n",
    "\n",
    "# Predict category of a new text\n",
    "new_text = [\"I love Python\"]\n",
    "X_new = vectorizer.transform(new_text)\n",
    "predicted_label = model.predict(X_new)\n",
    "\n",
    "print(\"Predicted Category:\", predicted_label[0])"
   ]
  },
  {
   "cell_type": "code",
   "execution_count": null,
   "metadata": {},
   "outputs": [],
   "source": []
  }
 ],
 "metadata": {
  "kernelspec": {
   "display_name": "base",
   "language": "python",
   "name": "python3"
  },
  "language_info": {
   "codemirror_mode": {
    "name": "ipython",
    "version": 3
   },
   "file_extension": ".py",
   "mimetype": "text/x-python",
   "name": "python",
   "nbconvert_exporter": "python",
   "pygments_lexer": "ipython3",
   "version": "3.12.4"
  }
 },
 "nbformat": 4,
 "nbformat_minor": 2
}
