{
 "cells": [
  {
   "cell_type": "code",
   "execution_count": 1,
   "metadata": {},
   "outputs": [
    {
     "name": "stdout",
     "output_type": "stream",
     "text": [
      "Defaulting to user installation because normal site-packages is not writeable\n",
      "Requirement already satisfied: gensim in c:\\users\\shaik toufiqsaheb\\appdata\\roaming\\python\\python312\\site-packages (4.3.3)\n",
      "Requirement already satisfied: nltk in c:\\programdata\\anaconda3\\lib\\site-packages (3.8.1)\n",
      "Requirement already satisfied: numpy<2.0,>=1.18.5 in c:\\users\\shaik toufiqsaheb\\appdata\\roaming\\python\\python312\\site-packages (from gensim) (1.26.4)\n",
      "Requirement already satisfied: scipy<1.14.0,>=1.7.0 in c:\\users\\shaik toufiqsaheb\\appdata\\roaming\\python\\python312\\site-packages (from gensim) (1.13.1)\n",
      "Requirement already satisfied: smart-open>=1.8.1 in c:\\users\\shaik toufiqsaheb\\appdata\\roaming\\python\\python312\\site-packages (from gensim) (7.0.5)\n",
      "Requirement already satisfied: click in c:\\programdata\\anaconda3\\lib\\site-packages (from nltk) (8.1.7)\n",
      "Requirement already satisfied: joblib in c:\\programdata\\anaconda3\\lib\\site-packages (from nltk) (1.4.2)\n",
      "Requirement already satisfied: regex>=2021.8.3 in c:\\programdata\\anaconda3\\lib\\site-packages (from nltk) (2023.10.3)\n",
      "Requirement already satisfied: tqdm in c:\\programdata\\anaconda3\\lib\\site-packages (from nltk) (4.66.4)\n",
      "Requirement already satisfied: wrapt in c:\\users\\shaik toufiqsaheb\\appdata\\roaming\\python\\python312\\site-packages (from smart-open>=1.8.1->gensim) (1.16.0)\n",
      "Requirement already satisfied: colorama in c:\\programdata\\anaconda3\\lib\\site-packages (from click->nltk) (0.4.6)\n"
     ]
    }
   ],
   "source": [
    "!pip install gensim nltk\n"
   ]
  },
  {
   "cell_type": "code",
   "execution_count": 2,
   "metadata": {},
   "outputs": [
    {
     "name": "stderr",
     "output_type": "stream",
     "text": [
      "c:\\ProgramData\\anaconda3\\Lib\\site-packages\\paramiko\\transport.py:219: CryptographyDeprecationWarning: Blowfish has been deprecated and will be removed in a future release\n",
      "  \"class\": algorithms.Blowfish,\n",
      "[nltk_data] Downloading package wordnet to C:\\Users\\SHAIK\n",
      "[nltk_data]     TOUFIQSAHEB\\AppData\\Roaming\\nltk_data...\n",
      "[nltk_data] Downloading package omw-1.4 to C:\\Users\\SHAIK\n",
      "[nltk_data]     TOUFIQSAHEB\\AppData\\Roaming\\nltk_data...\n"
     ]
    },
    {
     "name": "stdout",
     "output_type": "stream",
     "text": [
      "File 'sample.txt' not found. Please ensure the file exists.\n"
     ]
    }
   ],
   "source": [
    "from gensim.parsing.preprocessing import remove_stopwords\n",
    "from gensim.utils import simple_preprocess\n",
    "from nltk.stem import PorterStemmer\n",
    "from nltk.stem import WordNetLemmatizer\n",
    "from nltk.corpus import wordnet\n",
    "import nltk\n",
    "\n",
    "# Download required NLTK data\n",
    "nltk.download('wordnet')\n",
    "nltk.download('omw-1.4')\n",
    "\n",
    "# Initialize stemmer and lemmatizer\n",
    "stemmer = PorterStemmer()\n",
    "lemmatizer = WordNetLemmatizer()\n",
    "\n",
    "# Function to preprocess text\n",
    "def preprocess_text(text):\n",
    "    # Step 1: Tokenize text\n",
    "    tokens = simple_preprocess(text)\n",
    "\n",
    "    # Step 2: Remove stopwords\n",
    "    tokens_no_stopwords = [word for word in tokens if word != remove_stopwords(word)]\n",
    "\n",
    "    # Step 3: Perform stemming\n",
    "    stemmed_tokens = [stemmer.stem(word) for word in tokens_no_stopwords]\n",
    "\n",
    "    # Step 4: Perform lemmatization\n",
    "    lemmatized_tokens = [lemmatizer.lemmatize(word, pos='v') for word in stemmed_tokens]\n",
    "\n",
    "    return lemmatized_tokens\n",
    "\n",
    "# Load text from a file\n",
    "file_path = \"sample.txt\"  # Replace with your text file path\n",
    "try:\n",
    "    with open(file_path, 'r') as file:\n",
    "        text = file.read()\n",
    "        print(\"Original Text:\\n\", text)\n",
    "\n",
    "        # Preprocess the text\n",
    "        processed_tokens = preprocess_text(text)\n",
    "        print(\"\\nProcessed Tokens:\\n\", processed_tokens)\n",
    "\n",
    "except FileNotFoundError:\n",
    "    print(f\"File '{file_path}' not found. Please ensure the file exists.\")\n",
    "\n"
   ]
  }
 ],
 "metadata": {
  "kernelspec": {
   "display_name": "base",
   "language": "python",
   "name": "python3"
  },
  "language_info": {
   "codemirror_mode": {
    "name": "ipython",
    "version": 3
   },
   "file_extension": ".py",
   "mimetype": "text/x-python",
   "name": "python",
   "nbconvert_exporter": "python",
   "pygments_lexer": "ipython3",
   "version": "3.12.4"
  }
 },
 "nbformat": 4,
 "nbformat_minor": 2
}
