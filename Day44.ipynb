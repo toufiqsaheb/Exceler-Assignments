{
 "cells": [
  {
   "cell_type": "code",
   "execution_count": null,
   "metadata": {},
   "outputs": [
    {
     "name": "stdout",
     "output_type": "stream",
     "text": [
      "Bot: I'm not sure how to respond to that.\n",
      "Bot: I'm not sure how to respond to that.\n",
      "Bot: I'm not sure how to respond to that.\n",
      "Bot: I'm not sure how to respond to that.\n",
      "Bot: I'm not sure how to respond to that.\n",
      "Bot: I'm not sure how to respond to that.\n",
      "Bot: I'm not sure how to respond to that.\n",
      "Bot: I'm not sure how to respond to that.\n",
      "Bot: I'm not sure how to respond to that.\n",
      "Bot: I'm not sure how to respond to that.\n",
      "Bot: I'm not sure how to respond to that.\n",
      "Bot: I'm not sure how to respond to that.\n",
      "Bot: I'm not sure how to respond to that.\n",
      "Bot: I'm not sure how to respond to that.\n",
      "Bot: I'm not sure how to respond to that.\n",
      "Bot: I'm not sure how to respond to that.\n",
      "Bot: I'm not sure how to respond to that.\n",
      "Bot: I'm not sure how to respond to that.\n",
      "Bot: I'm not sure how to respond to that.\n",
      "Bot: I'm not sure how to respond to that.\n",
      "Bot: I'm not sure how to respond to that.\n",
      "Bot: I'm not sure how to respond to that.\n",
      "Bot: I'm not sure how to respond to that.\n",
      "Bot: I'm not sure how to respond to that.\n",
      "Bot: I'm not sure how to respond to that.\n",
      "Bot: I'm not sure how to respond to that.\n",
      "Bot: I'm not sure how to respond to that.\n",
      "Bot: I'm not sure how to respond to that.\n",
      "Bot: I'm not sure how to respond to that.\n",
      "Bot: I'm not sure how to respond to that.\n",
      "Bot: I'm not sure how to respond to that.\n",
      "Bot: I'm not sure how to respond to that.\n",
      "Bot: I'm not sure how to respond to that.\n",
      "Bot: I'm not sure how to respond to that.\n",
      "Bot: I'm not sure how to respond to that.\n",
      "Bot: I'm not sure how to respond to that.\n",
      "Bot: I'm not sure how to respond to that.\n",
      "Bot: I'm not sure how to respond to that.\n",
      "Bot: I'm not sure how to respond to that.\n",
      "Bot: I'm not sure how to respond to that.\n",
      "Bot: I'm not sure how to respond to that.\n",
      "Bot: I'm not sure how to respond to that.\n",
      "Bot: I'm not sure how to respond to that.\n",
      "Bot: I'm not sure how to respond to that.\n",
      "Bot: I'm not sure how to respond to that.\n",
      "Bot: I'm not sure how to respond to that.\n",
      "Bot: I'm not sure how to respond to that.\n",
      "Bot: I'm not sure how to respond to that.\n"
     ]
    }
   ],
   "source": [
    "def chatbot():\n",
    "    while True:\n",
    "        user_input = input(\"You: \")\n",
    "        if user_input.lower() == \"hello\":\n",
    "            print(\"Bot: Hi! How can I help you?\")\n",
    "        elif user_input.lower() == \"bye\":\n",
    "            print(\"Bot: Goodbye! Have a nice day!\")\n",
    "            break\n",
    "        else:\n",
    "            print(\"Bot: I'm not sure how to respond to that.\")\n",
    "\n",
    "chatbot()\n"
   ]
  },
  {
   "cell_type": "code",
   "execution_count": null,
   "metadata": {},
   "outputs": [],
   "source": []
  }
 ],
 "metadata": {
  "kernelspec": {
   "display_name": "base",
   "language": "python",
   "name": "python3"
  },
  "language_info": {
   "codemirror_mode": {
    "name": "ipython",
    "version": 3
   },
   "file_extension": ".py",
   "mimetype": "text/x-python",
   "name": "python",
   "nbconvert_exporter": "python",
   "pygments_lexer": "ipython3",
   "version": "3.12.4"
  }
 },
 "nbformat": 4,
 "nbformat_minor": 2
}
