{
 "cells": [
  {
   "cell_type": "code",
   "execution_count": 1,
   "metadata": {},
   "outputs": [
    {
     "name": "stdout",
     "output_type": "stream",
     "text": [
      "Cosine Similarity: 0.3446\n"
     ]
    }
   ],
   "source": [
    "from sklearn.feature_extraction.text import TfidfVectorizer\n",
    "from sklearn.metrics.pairwise import cosine_similarity\n",
    "\n",
    "def calculate_cosine_similarity(text1, text2):\n",
    "    \"\"\"\n",
    "    Calculates the cosine similarity between two strings.\n",
    "    \n",
    "    Parameters:\n",
    "    text1 (str): The first string.\n",
    "    text2 (str): The second string.\n",
    "    \n",
    "    Returns:\n",
    "    float: The cosine similarity score.\n",
    "    \"\"\"\n",
    "    # Create a TfidfVectorizer object\n",
    "    vectorizer = TfidfVectorizer()\n",
    "    \n",
    "    # Transform the texts into TF-IDF vectors\n",
    "    tfidf_matrix = vectorizer.fit_transform([text1, text2])\n",
    "    \n",
    "    # Compute the cosine similarity between the vectors\n",
    "    similarity = cosine_similarity(tfidf_matrix[0:1], tfidf_matrix[1:2])\n",
    "    \n",
    "    return similarity[0][0]\n",
    "\n",
    "# Test the function\n",
    "string1 = \"Natural Language Processing is amazing.\"\n",
    "string2 = \"I love working on Natural Language Processing projects.\"\n",
    "\n",
    "similarity_score = calculate_cosine_similarity(string1, string2)\n",
    "print(f\"Cosine Similarity: {similarity_score:.4f}\")\n"
   ]
  }
 ],
 "metadata": {
  "kernelspec": {
   "display_name": "base",
   "language": "python",
   "name": "python3"
  },
  "language_info": {
   "codemirror_mode": {
    "name": "ipython",
    "version": 3
   },
   "file_extension": ".py",
   "mimetype": "text/x-python",
   "name": "python",
   "nbconvert_exporter": "python",
   "pygments_lexer": "ipython3",
   "version": "3.12.4"
  }
 },
 "nbformat": 4,
 "nbformat_minor": 2
}
