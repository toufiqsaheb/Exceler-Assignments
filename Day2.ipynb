{
 "cells": [
  {
   "cell_type": "code",
   "execution_count": 1,
   "metadata": {},
   "outputs": [
    {
     "name": "stdout",
     "output_type": "stream",
     "text": [
      "apple\n",
      "date\n",
      "elderberry\n"
     ]
    }
   ],
   "source": [
    "# Creating a list\n",
    "fruits = [\"apple\", \"banana\", \"cherry\", \"date\", \"elderberry\"]\n",
    "\n",
    "# Accessing elements by index\n",
    "print(fruits[0])  # First element: apple\n",
    "print(fruits[3])  # Fourth element: date\n",
    "print(fruits[-1]) # Last element: elderberry\n"
   ]
  },
  {
   "cell_type": "code",
   "execution_count": 2,
   "metadata": {},
   "outputs": [
    {
     "name": "stdout",
     "output_type": "stream",
     "text": [
      "blue\n",
      "yellow\n"
     ]
    }
   ],
   "source": [
    "# Creating a tuple\n",
    "colors = (\"red\", \"blue\", \"green\", \"yellow\", \"purple\")\n",
    "\n",
    "# Accessing elements by index\n",
    "print(colors[1])  # Second element: blue\n",
    "print(colors[-2]) # Second-to-last element: yellow\n"
   ]
  },
  {
   "cell_type": "code",
   "execution_count": 3,
   "metadata": {},
   "outputs": [
    {
     "name": "stdout",
     "output_type": "stream",
     "text": [
      "92\n",
      "78\n"
     ]
    }
   ],
   "source": [
    "# Creating a dictionary\n",
    "student_marks = {\n",
    "    \"John\": 85,\n",
    "    \"Emma\": 92,\n",
    "    \"Liam\": 78,\n",
    "    \"Sophia\": 88,\n",
    "    \"Olivia\": 91\n",
    "}\n",
    "\n",
    "# Accessing elements by key\n",
    "print(student_marks[\"Emma\"])  # Value for key 'Emma': 92\n",
    "print(student_marks.get(\"Liam\"))  # Value for key 'Liam': 78\n"
   ]
  },
  {
   "cell_type": "code",
   "execution_count": 4,
   "metadata": {},
   "outputs": [
    {
     "name": "stdout",
     "output_type": "stream",
     "text": [
      "['banana', 'cherry', 'date']\n",
      "['apple', 'banana', 'cherry']\n"
     ]
    }
   ],
   "source": [
    "print(fruits[1:4])  # Slicing elements from index 1 to 3: ['banana', 'cherry', 'date']\n",
    "print(fruits[:3])   # First three elements: ['apple', 'banana', 'cherry']\n"
   ]
  },
  {
   "cell_type": "code",
   "execution_count": 5,
   "metadata": {},
   "outputs": [
    {
     "name": "stdout",
     "output_type": "stream",
     "text": [
      "('green', 'yellow', 'purple')\n",
      "('red', 'blue')\n"
     ]
    }
   ],
   "source": [
    "print(colors[2:])   # From index 2 to end: ('green', 'yellow', 'purple')\n",
    "print(colors[:2])   # First two elements: ('red', 'blue')\n"
   ]
  },
  {
   "cell_type": "code",
   "execution_count": 6,
   "metadata": {},
   "outputs": [
    {
     "name": "stdout",
     "output_type": "stream",
     "text": [
      "dict_keys(['John', 'Emma', 'Liam', 'Sophia', 'Olivia'])\n",
      "dict_values([85, 92, 78, 88, 91])\n"
     ]
    }
   ],
   "source": [
    "print(student_marks.keys())    # All keys: dict_keys(['John', 'Emma', 'Liam', 'Sophia', 'Olivia'])\n",
    "print(student_marks.values())  # All values: dict_values([85, 92, 78, 88, 91])\n"
   ]
  },
  {
   "cell_type": "code",
   "execution_count": null,
   "metadata": {},
   "outputs": [],
   "source": []
  }
 ],
 "metadata": {
  "kernelspec": {
   "display_name": "base",
   "language": "python",
   "name": "python3"
  },
  "language_info": {
   "codemirror_mode": {
    "name": "ipython",
    "version": 3
   },
   "file_extension": ".py",
   "mimetype": "text/x-python",
   "name": "python",
   "nbconvert_exporter": "python",
   "pygments_lexer": "ipython3",
   "version": "3.12.4"
  }
 },
 "nbformat": 4,
 "nbformat_minor": 2
}
