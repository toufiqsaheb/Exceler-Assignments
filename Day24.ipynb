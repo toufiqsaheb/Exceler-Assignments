{
 "cells": [
  {
   "cell_type": "code",
   "execution_count": 1,
   "metadata": {},
   "outputs": [
    {
     "name": "stdout",
     "output_type": "stream",
     "text": [
      "File not found: sample.txt\n",
      "10 Most Common Words:\n"
     ]
    },
    {
     "name": "stderr",
     "output_type": "stream",
     "text": [
      "[nltk_data] Downloading package punkt to C:\\Users\\SHAIK\n",
      "[nltk_data]     TOUFIQSAHEB\\AppData\\Roaming\\nltk_data...\n",
      "[nltk_data]   Package punkt is already up-to-date!\n"
     ]
    }
   ],
   "source": [
    "import nltk\n",
    "from nltk.tokenize import word_tokenize\n",
    "from nltk.probability import FreqDist\n",
    "import string\n",
    "\n",
    "# Ensure required resources are downloaded\n",
    "nltk.download('punkt')\n",
    "\n",
    "def get_most_common_words(file_path, num_words=10):\n",
    "    \"\"\"\n",
    "    Tokenizes the text in the given file and returns the most common words.\n",
    "    \n",
    "    Parameters:\n",
    "    file_path (str): Path to the text file.\n",
    "    num_words (int): Number of most common words to return.\n",
    "    \n",
    "    Returns:\n",
    "    list: A list of tuples containing the most common words and their counts.\n",
    "    \"\"\"\n",
    "    try:\n",
    "        # Load the text file\n",
    "        with open(file_path, 'r') as file:\n",
    "            text = file.read()\n",
    "        \n",
    "        # Tokenize the text\n",
    "        tokens = word_tokenize(text)\n",
    "        \n",
    "        # Convert tokens to lowercase and remove punctuation\n",
    "        words = [word.lower() for word in tokens if word.isalnum()]\n",
    "        \n",
    "        # Calculate word frequencies\n",
    "        freq_dist = FreqDist(words)\n",
    "        \n",
    "        # Get the most common words\n",
    "        return freq_dist.most_common(num_words)\n",
    "    \n",
    "    except FileNotFoundError:\n",
    "        print(f\"File not found: {file_path}\")\n",
    "        return []\n",
    "\n",
    "# Test the function\n",
    "file_path = 'sample.txt'  # Replace with the path to your text file\n",
    "most_common_words = get_most_common_words(file_path)\n",
    "\n",
    "# Display the results\n",
    "print(\"10 Most Common Words:\")\n",
    "for word, count in most_common_words:\n",
    "    print(f\"{word}: {count}\")\n"
   ]
  }
 ],
 "metadata": {
  "kernelspec": {
   "display_name": "base",
   "language": "python",
   "name": "python3"
  },
  "language_info": {
   "codemirror_mode": {
    "name": "ipython",
    "version": 3
   },
   "file_extension": ".py",
   "mimetype": "text/x-python",
   "name": "python",
   "nbconvert_exporter": "python",
   "pygments_lexer": "ipython3",
   "version": "3.12.4"
  }
 },
 "nbformat": 4,
 "nbformat_minor": 2
}
