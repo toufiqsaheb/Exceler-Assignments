{
 "cells": [
  {
   "cell_type": "code",
   "execution_count": null,
   "metadata": {
    "vscode": {
     "languageId": "plaintext"
    }
   },
   "outputs": [],
   "source": [
    "from transformers import pipeline\n",
    "\n",
    "summarizer = pipeline(\"summarization\")\n",
    "text = \"Artificial Intelligence is transforming the world. It is used in various fields such as healthcare, finance, and education. AI helps automate tasks, improve efficiency, and make data-driven decisions. As technology advances, AI continues to evolve and impact our daily lives.\"\n",
    "\n",
    "print(\"Summary:\", summarizer(text, max_length=50, min_length=20, do_sample=False)[0]['summary_text'])\n"
   ]
  },
  {
   "cell_type": "code",
   "execution_count": null,
   "metadata": {
    "vscode": {
     "languageId": "plaintext"
    }
   },
   "outputs": [],
   "source": []
  }
 ],
 "metadata": {
  "language_info": {
   "name": "python"
  }
 },
 "nbformat": 4,
 "nbformat_minor": 2
}
