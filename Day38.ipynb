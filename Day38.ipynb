{
 "cells": [
  {
   "cell_type": "code",
   "execution_count": 1,
   "metadata": {},
   "outputs": [
    {
     "name": "stdout",
     "output_type": "stream",
     "text": [
      "Predicted Category: ham\n"
     ]
    }
   ],
   "source": [
    "from sklearn.feature_extraction.text import TfidfVectorizer\n",
    "from sklearn.tree import DecisionTreeClassifier\n",
    "\n",
    "# Sample text data and labels\n",
    "texts = [\"Spam messages are annoying\", \"I won a lottery\", \"This is a normal message\", \"Claim your free prize now\", \"Hello, how are you?\"]\n",
    "labels = [\"spam\", \"spam\", \"ham\", \"spam\", \"ham\"]\n",
    "\n",
    "# Convert text data into numerical format\n",
    "vectorizer = TfidfVectorizer()\n",
    "X = vectorizer.fit_transform(texts)\n",
    "\n",
    "# Train the Decision Tree model\n",
    "model = DecisionTreeClassifier()\n",
    "model.fit(X, labels)\n",
    "\n",
    "# Predict category of a new text\n",
    "new_text = [\"You have won a free gift\"]\n",
    "X_new = vectorizer.transform(new_text)\n",
    "predicted_label = model.predict(X_new)\n",
    "\n",
    "print(\"Predicted Category:\", predicted_label[0])\n"
   ]
  },
  {
   "cell_type": "code",
   "execution_count": null,
   "metadata": {},
   "outputs": [],
   "source": []
  }
 ],
 "metadata": {
  "kernelspec": {
   "display_name": "Python 3",
   "language": "python",
   "name": "python3"
  },
  "language_info": {
   "codemirror_mode": {
    "name": "ipython",
    "version": 3
   },
   "file_extension": ".py",
   "mimetype": "text/x-python",
   "name": "python",
   "nbconvert_exporter": "python",
   "pygments_lexer": "ipython3",
   "version": "3.12.6"
  }
 },
 "nbformat": 4,
 "nbformat_minor": 2
}
